{
 "cells": [
  {
   "cell_type": "code",
   "execution_count": 11,
   "id": "2c421db0-ea39-467c-9fe2-38c0b6079bcb",
   "metadata": {},
   "outputs": [
    {
     "name": "stdout",
     "output_type": "stream",
     "text": [
      "Welcome to ROCK,PAPER,SCISSORS game!\n"
     ]
    },
    {
     "name": "stdin",
     "output_type": "stream",
     "text": [
      "Enter your move:(r)ock,(p)aper,(s)cissors r\n"
     ]
    },
    {
     "name": "stdout",
     "output_type": "stream",
     "text": [
      "rock virsus...\n",
      "paper\n",
      "you lose\n"
     ]
    },
    {
     "name": "stdin",
     "output_type": "stream",
     "text": [
      "Enter your move:(r)ock,(p)aper,(s)cissors p\n"
     ]
    },
    {
     "name": "stdout",
     "output_type": "stream",
     "text": [
      "paper virsus...\n",
      "rock\n",
      "you win !\n",
      "you have 0 ties and 1 losses before you win\n"
     ]
    }
   ],
   "source": [
    "print('Welcome to ROCK,PAPER,SCISSORS game!')\n",
    "tiecounter=0\n",
    "losecounter=0\n",
    "gamerun=0\n",
    "pose=0\n",
    "value=0\n",
    "#gamerun控制比賽是否繼續 tiecounter和losecounter則是計算平手和輸的次數\n",
    "#pose是將電腦隨機產生的數字轉換成剪刀石頭布\n",
    "#value是將r,p,s轉成1 2 3\n",
    "while gamerun==0:\n",
    "    player=input('Enter your move:(r)ock,(p)aper,(s)cissors')\n",
    "    import random\n",
    "    computer= random.randint(1,3)\n",
    "    if player=='r':\n",
    "        player='rock'\n",
    "        value=1\n",
    "    elif player=='p':\n",
    "        player='paper'\n",
    "        value=2\n",
    "    elif player=='s':\n",
    "        player='scissors'\n",
    "        value=3\n",
    "    else:\n",
    "        print('you are wrong')\n",
    "        break\n",
    "       \n",
    "    if computer==1:\n",
    "        pose='rock'\n",
    "    elif computer==2:\n",
    "        pose='paper'\n",
    "    else:\n",
    "        pose='scissors'\n",
    "    \n",
    "    print(player,'virsus...')\n",
    "    print(pose)\n",
    "    \n",
    "    if value==computer:\n",
    "        print('it is a tie')\n",
    "        tiecounter+=1\n",
    "        gamerun=0\n",
    "    elif (value==1 and computer==2) or (value==2 and computer==3) or (value==3 and computer==1):\n",
    "        print('you lose')\n",
    "        losecounter+=1\n",
    "        gamerun=0\n",
    "    else:\n",
    "        print('you win !')\n",
    "        gamerun=1\n",
    "        print('you have',tiecounter,'ties and',losecounter,'losses before you win')\n",
    "    \n"
   ]
  },
  {
   "cell_type": "code",
   "execution_count": null,
   "id": "ebd53f1c-4cd8-474f-8672-88f357a8ee47",
   "metadata": {},
   "outputs": [],
   "source": []
  },
  {
   "cell_type": "code",
   "execution_count": null,
   "id": "b0c0b1bc-e4c8-4bea-ba1e-43f6cee28a29",
   "metadata": {},
   "outputs": [],
   "source": []
  }
 ],
 "metadata": {
  "kernelspec": {
   "display_name": "Python 3",
   "language": "python",
   "name": "python3"
  },
  "language_info": {
   "codemirror_mode": {
    "name": "ipython",
    "version": 3
   },
   "file_extension": ".py",
   "mimetype": "text/x-python",
   "name": "python",
   "nbconvert_exporter": "python",
   "pygments_lexer": "ipython3",
   "version": "3.8.8"
  }
 },
 "nbformat": 4,
 "nbformat_minor": 5
}
