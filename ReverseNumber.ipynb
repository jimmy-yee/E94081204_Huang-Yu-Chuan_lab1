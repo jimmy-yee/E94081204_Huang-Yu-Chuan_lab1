{
 "cells": [
  {
   "cell_type": "code",
   "execution_count": null,
   "id": "7ebd1f41-0bc3-40c6-8785-8af2b33bcfef",
   "metadata": {},
   "outputs": [],
   "source": []
  },
  {
   "cell_type": "code",
   "execution_count": 15,
   "id": "7025dbe5-c2d4-4668-8c32-1917743af57c",
   "metadata": {},
   "outputs": [],
   "source": [
    "def reverse(number):\n",
    "    \"reverse input\"\n",
    "    n=0\n",
    "    p=0\n",
    "    c=0\n",
    "    ans=0\n",
    "    n=number\n",
    "    #先求出number是幾位數 並用p來代表位數\n",
    "    while n>0:\n",
    "        n=n//10\n",
    "        p+=1\n",
    "    #透過將每個位數的數字找出來 在交換為\n",
    "    while (p>=0) or (c<p):\n",
    "        ans=ans+number//(10**(p-1))*(10**c)\n",
    "        number=number%(10**(p-1))\n",
    "        c+=1\n",
    "        p-=1\n",
    "    return ans\n",
    "    \n",
    "    \n",
    "   \n",
    "\n",
    "\n",
    "    \n",
    "    "
   ]
  },
  {
   "cell_type": "code",
   "execution_count": 22,
   "id": "e5986850-7d6e-4601-843d-66ef918dc6d5",
   "metadata": {},
   "outputs": [
    {
     "name": "stdin",
     "output_type": "stream",
     "text": [
      "ENTER A NUMBER 24567\n"
     ]
    },
    {
     "data": {
      "text/plain": [
       "76542.0"
      ]
     },
     "execution_count": 22,
     "metadata": {},
     "output_type": "execute_result"
    }
   ],
   "source": [
    "number=int(input('ENTER A NUMBER'))\n",
    "reverse(number)\n",
    "\n",
    "\n",
    "\n",
    "\n"
   ]
  },
  {
   "cell_type": "code",
   "execution_count": null,
   "id": "f4cd226f-fe52-434e-888a-bcbb0efbdb75",
   "metadata": {},
   "outputs": [],
   "source": []
  }
 ],
 "metadata": {
  "kernelspec": {
   "display_name": "Python 3",
   "language": "python",
   "name": "python3"
  },
  "language_info": {
   "codemirror_mode": {
    "name": "ipython",
    "version": 3
   },
   "file_extension": ".py",
   "mimetype": "text/x-python",
   "name": "python",
   "nbconvert_exporter": "python",
   "pygments_lexer": "ipython3",
   "version": "3.8.8"
  }
 },
 "nbformat": 4,
 "nbformat_minor": 5
}
