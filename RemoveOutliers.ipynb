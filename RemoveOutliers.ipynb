{
 "cells": [
  {
   "cell_type": "code",
   "execution_count": 28,
   "id": "611daf81",
   "metadata": {},
   "outputs": [
    {
     "name": "stdout",
     "output_type": "stream",
     "text": [
      "Enter the number of smallest and largest value to remove:3\n",
      "Enter a value(q or Q to quiz)1\n",
      "Enter a value(q or Q to quiz)2\n",
      "Enter a value(q or Q to quiz)3\n",
      "Enter a value(q or Q to quiz)4\n",
      "Enter a value(q or Q to quiz)5\n",
      "Enter a value(q or Q to quiz)6\n",
      "Enter a value(q or Q to quiz)7\n",
      "Enter a value(q or Q to quiz)8\n",
      "Enter a value(q or Q to quiz)9\n",
      "Enter a value(q or Q to quiz)234\n",
      "Enter a value(q or Q to quiz)456\n",
      "Enter a value(q or Q to quiz)345\n",
      "Enter a value(q or Q to quiz)678\n",
      "Enter a value(q or Q to quiz)567\n",
      "Enter a value(q or Q to quiz)987\n",
      "Enter a value(q or Q to quiz)678\n",
      "Enter a value(q or Q to quiz)569\n",
      "Enter a value(q or Q to quiz)768\n",
      "Enter a value(q or Q to quiz)435\n",
      "Enter a value(q or Q to quiz)234\n",
      "Enter a value(q or Q to quiz)123\n",
      "Enter a value(q or Q to quiz)q\n",
      "The original data [1, 2, 3, 4, 5, 6, 7, 8, 9, 234, 456, 345, 678, 567, 987, 678, 569, 768, 435, 234, 123]\n",
      "The data with the outliers removed: [4, 5, 6, 7, 8, 9, 123, 234, 234, 345, 435, 456, 567, 569, 678]\n",
      "The outliers: [1, 2, 3, 678, 768, 987]\n"
     ]
    }
   ],
   "source": [
    "delete=0\n",
    "ans=0\n",
    "n=0\n",
    "c=0\n",
    "#c為計算list的index\n",
    "#n用來判斷input是否繼續\n",
    "#delete決定刪除幾個數\n",
    "delete=int(input('Enter the number of smallest and largest value to remove:'))\n",
    "ans=[]\n",
    "while n!=1:\n",
    "    ans.insert (c,input('Enter a value(q or Q to quiz)'))\n",
    "    c+=1\n",
    "    if ans[-1]=='q' or ans[-1]=='Q':\n",
    "        del ans[-1]\n",
    "        n=1\n",
    "        c=c-1\n",
    "    ans[c-1]=int(ans[c-1]) #將字串轉為數字方便sorted排列\n",
    "    \n",
    "print('The original data',ans)\n",
    "\n",
    "ans= sorted(ans)\n",
    "\n",
    "\n",
    "delete_ans=[]\n",
    "l=delete\n",
    "\n",
    "#將outlier找出來並且存到 delete_ans中\n",
    "while l>0:\n",
    "    delete_ans.insert(-l,ans[-l])\n",
    "    delete_ans.insert(l-1,ans[l-1])\n",
    "    l-=1\n",
    "    \n",
    "#算出remove後的 list\n",
    "while delete>0:\n",
    "    del ans[delete-1]\n",
    "    del ans[-delete]\n",
    "    delete-=1\n",
    "\n",
    "delete_ans= sorted(delete_ans)\n",
    "print('The data with the outliers removed:',ans)\n",
    "print('The outliers:',delete_ans)\n",
    "\n"
   ]
  },
  {
   "cell_type": "markdown",
   "id": "a5b6848d",
   "metadata": {},
   "source": [
    "#### "
   ]
  }
 ],
 "metadata": {
  "kernelspec": {
   "display_name": "Python 3",
   "language": "python",
   "name": "python3"
  },
  "language_info": {
   "codemirror_mode": {
    "name": "ipython",
    "version": 3
   },
   "file_extension": ".py",
   "mimetype": "text/x-python",
   "name": "python",
   "nbconvert_exporter": "python",
   "pygments_lexer": "ipython3",
   "version": "3.8.8"
  }
 },
 "nbformat": 4,
 "nbformat_minor": 5
}
